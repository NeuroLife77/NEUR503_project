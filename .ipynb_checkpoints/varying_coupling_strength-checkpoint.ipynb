{
 "cells": [
  {
   "cell_type": "code",
   "execution_count": null,
   "id": "53da34d4",
   "metadata": {},
   "outputs": [
    {
     "name": "stdout",
     "output_type": "stream",
     "text": [
      "Populating the interactive namespace from numpy and matplotlib\n"
     ]
    }
   ],
   "source": [
    "%pylab nbagg\n",
    "import torch\n",
    "import numpy as np\n",
    "from lib.Simulator.Wrapper import *\n",
    "from lib.utils import *\n",
    "from numpy import array as ar\n",
    "from copy import deepcopy as dcp\n",
    "import numpy as np\n",
    "from matplotlib import rc\n",
    "import matplotlib as mpl\n",
    "import multiprocessing\n",
    "from multiprocessing import Pool\n",
    "rc('text',usetex = True)\n",
    "mpl.rcParams['font.size'] = 10\n",
    "torch.set_printoptions(sci_mode=True)\n",
    "try:\n",
    "    multiprocessing.set_start_method('spawn')\n",
    "except:\n",
    "    pass\n",
    "def paral_sim(s, ind,processes = 1):\n",
    "    if processes > 10:\n",
    "        processes = 10\n",
    "    if __name__ == '__main__':\n",
    "        with Pool(processes=processes) as pool:\n",
    "            results = pool.map_async(s.run_simulation_long,ind).get(timeout=600000)                \n",
    "        pool.close()\n",
    "        pool.join()\n",
    "    return results\n",
    "connectivity_source_file = '/home/bic/dboutet/tvb_scripting/tvb_environment/tvb/lib/python3.7/site-packages/tvb_data/connectivity/connectivity_68.zip'\n",
    "sc = connectivity.Connectivity.from_file(connectivity_source_file)\n",
    "SC_scaled = sc.weights* (1e0 * (np.ones((68,68)) - np.eye(68)))\n",
    "SC_scaled /= np.max(SC_scaled)\n",
    "par_val_def = torch.cat([theta_initial.view(1,-1) for i in range(68)], dim = 0)\n",
    "par_val_def_denoise = torch.cat([theta_initial.view(1,-1) for i in range(68)], dim = 0)\n",
    "par_val_def_denoise[:,-1] = 0\n",
    "par_val_def_denoise[:,-2] = 0\n",
    "print(par_val_def.shape)"
   ]
  },
  {
   "cell_type": "code",
   "execution_count": null,
   "id": "2603aef1",
   "metadata": {},
   "outputs": [],
   "source": [
    "wrapper = Wrapper()\n",
    "a_vals = [1e-4*i for i in range(1,11)]\n",
    "#a_vals.reverse()\n",
    "wrapper.add_sim(par_val_def_denoise,file = 'empty', a_val = 0, speed = 20)\n",
    "for i in range(len(a_vals)):\n",
    "    wrapper.add_sim(par_val_def_denoise, a_val = a_vals[i], speed = 20) "
   ]
  },
  {
   "cell_type": "code",
   "execution_count": null,
   "id": "aeb2b343",
   "metadata": {},
   "outputs": [],
   "source": [
    "results = paral_sim(wrapper, [i for i in range(len(wrapper.simulations))],processes = len(wrapper.simulations))\n",
    "psd = torch.cat([results[i][1][:,4:100].view((1,68,-1)) for i in range(len(results))],dim=0)"
   ]
  },
  {
   "cell_type": "code",
   "execution_count": null,
   "id": "bab44fec",
   "metadata": {
    "scrolled": true
   },
   "outputs": [],
   "source": [
    "num_sims = len(wrapper.simulations)\n",
    "connectome = np.zeros((num_sims,68,68))\n",
    "for i in range(num_sims):\n",
    "    connectome[i] =  np.corrcoef(results[i][0])*(np.ones((68,68)) - np.eye(68))\n",
    "print(connectome.shape)\n",
    "figure(figsize=(11,num_sims*2))\n",
    "for i in range(num_sims):\n",
    "    subplot(int(num_sims/2)+1,2,i+1)\n",
    "    imshow(abs(connectome[i]))\n",
    "    colorbar()\n",
    "subplot(int(num_sims/2)+1,2,i+2)\n",
    "imshow(SC_scaled)\n",
    "colorbar()\n",
    "tight_layout()"
   ]
  },
  {
   "cell_type": "code",
   "execution_count": null,
   "id": "b5a74d00",
   "metadata": {
    "scrolled": false
   },
   "outputs": [],
   "source": [
    "PSD_show = True\n",
    "plot_psd = [0,1,2]\n",
    "if PSD_show:\n",
    "    freqs = [0.5*i for i in range(4,100)]\n",
    "    figure(figsize=(16,60))\n",
    "    counter = 0\n",
    "    for i in range(68):\n",
    "        counter+=1\n",
    "        subplot(17,4,counter)\n",
    "        plot(freqs,psd[plot_psd[0],i,:100],label = f'Uncoupled',linestyle = '-')\n",
    "        plot(freqs,psd[plot_psd[1],i,:100],label = f'Coupled 1',linestyle = '-')\n",
    "        plot(freqs,psd[plot_psd[2],i,:100],label = f'Coupled 2',linestyle = '-')\n",
    "        #xlim([1,40])\n",
    "        legend(loc = 'upper right')\n",
    "        title(f\"Region: {i}\")\n",
    "        grid(linestyle = '--')\n",
    "    tight_layout()\n",
    "    show()"
   ]
  },
  {
   "cell_type": "code",
   "execution_count": null,
   "id": "94fcc9dd",
   "metadata": {
    "scrolled": true
   },
   "outputs": [],
   "source": [
    "ts_show = True\n",
    "plot_ts = [0,1,-1]\n",
    "if ts_show:\n",
    "    t = [3.90625e-3*j for j in range(2000,2100)]\n",
    "    figure(figsize=(16,15))\n",
    "    for i in range(3):\n",
    "        subplot(3,1,i+1)\n",
    "        for j in range(68):\n",
    "            plot(t,results[plot_ts[i]][0][j,2000:2100])\n",
    "        title(f\"Simulation: {i}\")\n",
    "    \n",
    "        grid(linestyle = '--')\n",
    "    tight_layout()\n",
    "    show()"
   ]
  },
  {
   "cell_type": "code",
   "execution_count": null,
   "id": "b8140e4e",
   "metadata": {},
   "outputs": [],
   "source": [
    "wrapper = Wrapper()\n",
    "a_vals = [1e-4*i for i in range(1,11)]\n",
    "#a_vals.reverse()\n",
    "wrapper.add_sim(par_val_def,file = 'empty', a_val = 0, speed = 20)\n",
    "for i in range(len(a_vals)):\n",
    "    wrapper.add_sim(par_val_def, a_val = a_vals[i], speed = 20) "
   ]
  },
  {
   "cell_type": "code",
   "execution_count": null,
   "id": "43261129",
   "metadata": {},
   "outputs": [],
   "source": [
    "results = paral_sim(wrapper, [i for i in range(len(wrapper.simulations))],processes = len(wrapper.simulations))\n",
    "psd = torch.cat([results[i][1][:,4:100].view((1,68,-1)) for i in range(len(results))],dim=0)"
   ]
  },
  {
   "cell_type": "code",
   "execution_count": null,
   "id": "0c0e823c",
   "metadata": {
    "scrolled": false
   },
   "outputs": [],
   "source": [
    "num_sims = len(wrapper.simulations)\n",
    "connectome = np.zeros((num_sims,68,68))\n",
    "for i in range(num_sims):\n",
    "    connectome[i] =  np.corrcoef(results[i][0])*(np.ones((68,68)) - np.eye(68))\n",
    "print(connectome.shape)\n",
    "figure(figsize=(11,num_sims*2))\n",
    "for i in range(num_sims):\n",
    "    subplot(int(num_sims/2)+1,2,i+1)\n",
    "    imshow(abs(connectome[i]))\n",
    "    colorbar()\n",
    "subplot(int(num_sims/2)+1,2,i+2)\n",
    "imshow(SC_scaled)\n",
    "colorbar()\n",
    "tight_layout()"
   ]
  },
  {
   "cell_type": "code",
   "execution_count": null,
   "id": "0758ec88",
   "metadata": {},
   "outputs": [],
   "source": [
    "PSD_show = True\n",
    "plot_psd = [0,1,2]\n",
    "if PSD_show:\n",
    "    freqs = [0.5*i for i in range(4,100)]\n",
    "    figure(figsize=(16,60))\n",
    "    counter = 0\n",
    "    for i in range(68):\n",
    "        counter+=1\n",
    "        subplot(17,4,counter)\n",
    "        plot(freqs,psd[plot_psd[0],i,:100],label = f'Uncoupled',linestyle = '-')\n",
    "        plot(freqs,psd[plot_psd[1],i,:100],label = f'Coupled 1',linestyle = '-')\n",
    "        plot(freqs,psd[plot_psd[2],i,:100],label = f'Coupled 2',linestyle = '-')\n",
    "        #xlim([1,40])\n",
    "        legend(loc = 'upper right')\n",
    "        title(f\"Region: {i}\")\n",
    "        grid(linestyle = '--')\n",
    "    tight_layout()\n",
    "    show()"
   ]
  },
  {
   "cell_type": "code",
   "execution_count": null,
   "id": "be67e544",
   "metadata": {},
   "outputs": [],
   "source": [
    "ts_show = True\n",
    "plot_ts = [0,1,-1]\n",
    "if ts_show:\n",
    "    t = [3.90625e-3*j for j in range(2000,2100)]\n",
    "    figure(figsize=(16,15))\n",
    "    for i in range(3):\n",
    "        subplot(3,1,i+1)\n",
    "        for j in range(68):\n",
    "            plot(t,results[plot_ts[i]][0][j,2000:2100])\n",
    "        title(f\"Simulation: {i}\")\n",
    "    \n",
    "        grid(linestyle = '--')\n",
    "    tight_layout()\n",
    "    show()"
   ]
  }
 ],
 "metadata": {
  "kernelspec": {
   "display_name": "Python 3",
   "language": "python",
   "name": "python3"
  },
  "language_info": {
   "codemirror_mode": {
    "name": "ipython",
    "version": 3
   },
   "file_extension": ".py",
   "mimetype": "text/x-python",
   "name": "python",
   "nbconvert_exporter": "python",
   "pygments_lexer": "ipython3",
   "version": "3.7.10"
  }
 },
 "nbformat": 4,
 "nbformat_minor": 5
}
