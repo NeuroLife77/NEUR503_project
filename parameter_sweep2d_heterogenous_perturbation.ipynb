{
 "cells": [
  {
   "cell_type": "code",
   "execution_count": 1,
   "id": "53da34d4",
   "metadata": {},
   "outputs": [
    {
     "name": "stdout",
     "output_type": "stream",
     "text": [
      "Populating the interactive namespace from numpy and matplotlib\n",
      "torch.Size([68, 24])\n"
     ]
    }
   ],
   "source": [
    "%pylab nbagg\n",
    "import torch\n",
    "import numpy as np\n",
    "from lib.Simulator.Wrapper import *\n",
    "from lib.utils import *\n",
    "from numpy import array as ar\n",
    "from copy import deepcopy as dcp\n",
    "import numpy as np\n",
    "from matplotlib import rc\n",
    "import matplotlib as mpl\n",
    "import multiprocessing\n",
    "from multiprocessing import Pool\n",
    "from lib.Simulator.connectivity_paths import connectivity_source_file\n",
    "rc('text',usetex = True)\n",
    "mpl.rcParams['font.size'] = 10\n",
    "torch.set_printoptions(sci_mode=True)\n",
    "try:\n",
    "    multiprocessing.set_start_method('spawn')\n",
    "except:\n",
    "    pass\n",
    "def paral_sim(s, ind,processes = 1):\n",
    "    if processes > 11:\n",
    "        processes = 11\n",
    "    if __name__ == '__main__':\n",
    "        with Pool(processes=processes) as pool:\n",
    "            results = pool.map_async(s.run_simulation_long,ind).get(timeout=600000)                \n",
    "        pool.close()\n",
    "        pool.join()\n",
    "    return results\n",
    "sc = connectivity.Connectivity.from_file(connectivity_source_file)\n",
    "SC_scaled = sc.weights* ((np.ones((68,68)) - np.eye(68)))\n",
    "SC_scaled /= np.max(SC_scaled)\n",
    "par_val_def = torch.cat([theta_initial.view(1,-1) for i in range(68)], dim = 0)\n",
    "par_val_def[45,5] = 8\n",
    "par_val_def_denoise = torch.cat([theta_initial.view(1,-1) for i in range(68)], dim = 0)\n",
    "par_val_def_denoise[45,5] = 8\n",
    "par_val_def_denoise[:,-1] = 0\n",
    "par_val_def_denoise[:,-2] = 0\n",
    "print(par_val_def.shape)"
   ]
  },
  {
   "cell_type": "code",
   "execution_count": 2,
   "id": "2603aef1",
   "metadata": {},
   "outputs": [],
   "source": [
    "wrapper = Wrapper()\n",
    "par_vals = [[1e-4*i,10*j,f'Coupled{(i-1)*(4)+(j-1)} (a:{str(1e-4*i)[:6]}, K: {10*j})'] for i in range(1,7) for j in range(1,6)]\n",
    "#a_vals.reverse()\n",
    "wrapper.add_sim(par_val_def_denoise,file = 'empty', a_val = 0, speed = 50)\n",
    "for i in range(len(par_vals)):\n",
    "    wrapper.add_sim(par_val_def_denoise, a_val = par_vals[i][0], speed = par_vals[i][1]) "
   ]
  },
  {
   "cell_type": "code",
   "execution_count": null,
   "id": "aeb2b343",
   "metadata": {},
   "outputs": [],
   "source": [
    "results = paral_sim(wrapper, [i for i in range(len(wrapper.simulations))],processes = len(wrapper.simulations))\n",
    "psd = torch.cat([results[i][1][:,4:100].view((1,68,-1)) for i in range(len(results))],dim=0)"
   ]
  },
  {
   "cell_type": "code",
   "execution_count": null,
   "id": "bab44fec",
   "metadata": {
    "scrolled": false
   },
   "outputs": [],
   "source": [
    "num_sims = len(wrapper.simulations)\n",
    "connectome = np.zeros((num_sims,68,68))\n",
    "for i in range(num_sims):\n",
    "    connectome[i] =  np.corrcoef(results[i][0])*(np.ones((68,68)) - np.eye(68))\n",
    "print(connectome.shape)\n",
    "conn_titles = ['Uncoupled']\n",
    "for i in range(len(par_vals)):\n",
    "    conn_titles.append(par_vals[i][2])\n",
    "figure(figsize=(17,num_sims))\n",
    "for i in range(num_sims):\n",
    "    subplot(int(num_sims/4)+1,4,i+1)\n",
    "    imshow(abs(connectome[i]))\n",
    "    colorbar()\n",
    "    title(conn_titles[i])\n",
    "subplot(int(num_sims/4)+1,4,i+2)\n",
    "imshow(SC_scaled)\n",
    "colorbar()\n",
    "title('SC')\n",
    "tight_layout()"
   ]
  },
  {
   "cell_type": "code",
   "execution_count": null,
   "id": "b5a74d00",
   "metadata": {
    "scrolled": false
   },
   "outputs": [],
   "source": [
    "PSD_show = True\n",
    "plot_psd = [0,1,-1]\n",
    "if PSD_show:\n",
    "    freqs = [0.5*i for i in range(4,100)]\n",
    "    figure(figsize=(16,60))\n",
    "    counter = 0\n",
    "    for i in range(68):\n",
    "        counter+=1\n",
    "        subplot(17,4,counter)\n",
    "        plot(freqs,psd[plot_psd[0],i,:96],label = f'Uncoupled',linestyle = '-')\n",
    "        plot(freqs,psd[plot_psd[1],i,:96],label = f'Coupled {plot_psd[1]}',linestyle = '-')\n",
    "        plot(freqs,psd[plot_psd[2],i,:96],label = f'Coupled {plot_psd[2]}',linestyle = '-')\n",
    "        #xlim([1,40])\n",
    "        legend(loc = 'upper right')\n",
    "        title(f\"Region: {i}\")\n",
    "        grid(linestyle = '--')\n",
    "    tight_layout()\n",
    "    show()"
   ]
  },
  {
   "cell_type": "code",
   "execution_count": null,
   "id": "94fcc9dd",
   "metadata": {
    "scrolled": false
   },
   "outputs": [],
   "source": [
    "ts_show = True\n",
    "plot_ts = [0,1,-1]\n",
    "if ts_show:\n",
    "    t = [5e-4*j for j in range(4000,6000)]\n",
    "    figure(figsize=(16,15))\n",
    "    for i in range(3):\n",
    "        subplot(3,1,i+1)\n",
    "        for j in range(68):\n",
    "            plot(t,results[plot_ts[i]][0][j,4000:6000])\n",
    "        title(f\"Simulation: {plot_ts[i]}\")\n",
    "    \n",
    "        grid(linestyle = '--')\n",
    "    tight_layout()\n",
    "    show()"
   ]
  },
  {
   "cell_type": "code",
   "execution_count": null,
   "id": "981ca25d",
   "metadata": {},
   "outputs": [],
   "source": [
    "wrapper = Wrapper()\n",
    "par_vals = [[1e-4*i,10*j,f'Coupled{(i-1)*(4)+(j-1)} (a:{str(1e-4*i)[:6]}, K: {10*j})'] for i in range(1,7) for j in range(1,6)]\n",
    "#a_vals.reverse()\n",
    "wrapper.add_sim(par_val_def,file = 'empty', a_val = 0, speed = 50)\n",
    "for i in range(len(par_vals)):\n",
    "    wrapper.add_sim(par_val_def, a_val = par_vals[i][0], speed = par_vals[i][1]) "
   ]
  },
  {
   "cell_type": "code",
   "execution_count": null,
   "id": "d315ebe7",
   "metadata": {},
   "outputs": [],
   "source": [
    "results = paral_sim(wrapper, [i for i in range(len(wrapper.simulations))],processes = len(wrapper.simulations))\n",
    "psd = torch.cat([results[i][1][:,4:100].view((1,68,-1)) for i in range(len(results))],dim=0)"
   ]
  },
  {
   "cell_type": "code",
   "execution_count": null,
   "id": "12fe5982",
   "metadata": {
    "scrolled": true
   },
   "outputs": [],
   "source": [
    "num_sims = len(wrapper.simulations)\n",
    "connectome = np.zeros((num_sims,68,68))\n",
    "for i in range(num_sims):\n",
    "    connectome[i] =  np.corrcoef(results[i][0])*(np.ones((68,68)) - np.eye(68))\n",
    "print(connectome.shape)\n",
    "conn_titles = ['Uncoupled']\n",
    "for i in range(len(par_vals)):\n",
    "    conn_titles.append(par_vals[i][2])\n",
    "figure(figsize=(17,num_sims))\n",
    "for i in range(num_sims):\n",
    "    subplot(int(num_sims/4)+1,4,i+1)\n",
    "    imshow(abs(connectome[i]))\n",
    "    colorbar()\n",
    "    title(conn_titles[i])\n",
    "subplot(int(num_sims/4)+1,4,i+2)\n",
    "imshow(SC_scaled)\n",
    "colorbar()\n",
    "title('SC')\n",
    "tight_layout()"
   ]
  },
  {
   "cell_type": "code",
   "execution_count": null,
   "id": "b8ec1c70",
   "metadata": {},
   "outputs": [],
   "source": [
    "num_sims = len(wrapper.simulations)\n",
    "eigen_dec_connectome = []\n",
    "for c in connectome:\n",
    "    val,vect = np.linalg.eig(c)\n",
    "    val[3:] *= 0\n",
    "    lambda_diag = np.diag(val)\n",
    "    reconstructed_conn = vect @ lambda_diag @ vect.T\n",
    "    eigen_dec_connectome.append(reconstructed_conn*(np.ones((68,68)) - np.eye(68)))\n",
    "print(eigen_dec_connectome[0].shape)\n",
    "#inter_conns = "
   ]
  },
  {
   "cell_type": "code",
   "execution_count": null,
   "id": "6429b0a4",
   "metadata": {
    "scrolled": true
   },
   "outputs": [],
   "source": [
    "figure(figsize=(17,num_sims))\n",
    "for i in range(num_sims):\n",
    "    subplot(int(num_sims/4)+1,4,i+1)\n",
    "    #imshow(eigen_dec_connectome[i])\n",
    "    imshow(abs(eigen_dec_connectome[i]))\n",
    "    colorbar()\n",
    "    title(conn_titles[i])\n",
    "subplot(int(num_sims/4)+1,4,i+2)\n",
    "imshow(SC_scaled)\n",
    "colorbar()\n",
    "title('SC')\n",
    "tight_layout()"
   ]
  },
  {
   "cell_type": "code",
   "execution_count": null,
   "id": "25b95e5d",
   "metadata": {
    "scrolled": false
   },
   "outputs": [],
   "source": [
    "PSD_show = True\n",
    "plot_psd = [0,1,3]\n",
    "if PSD_show:\n",
    "    freqs = [0.5*i for i in range(4,100)]\n",
    "    figure(figsize=(16,60))\n",
    "    counter = 0\n",
    "    for i in range(68):\n",
    "        counter+=1\n",
    "        subplot(17,4,counter)\n",
    "        plot(freqs,psd[plot_psd[0],i,:96],label = f'Uncoupled',linestyle = '-')\n",
    "        plot(freqs,psd[plot_psd[1],i,:96],label = f'Coupled {plot_psd[1]}',linestyle = '-')\n",
    "        plot(freqs,psd[plot_psd[2],i,:96],label = f'Coupled {plot_psd[2]}',linestyle = '-')\n",
    "        #xlim([1,40])\n",
    "        legend(loc = 'upper right')\n",
    "        title(f\"Region: {i}\")\n",
    "        grid(linestyle = '--')\n",
    "    tight_layout()\n",
    "    show()"
   ]
  },
  {
   "cell_type": "code",
   "execution_count": null,
   "id": "b9f87103",
   "metadata": {},
   "outputs": [],
   "source": [
    "ts_show = True\n",
    "plot_ts = [0,1,3]\n",
    "if ts_show:\n",
    "    t = [5e-4*j for j in range(4000,5000)]\n",
    "    figure(figsize=(16,15))\n",
    "    for i in range(3):\n",
    "        subplot(3,1,i+1)\n",
    "        for j in range(68):\n",
    "            plot(t,results[plot_ts[i]][0][j,4000:5000])\n",
    "        title(f\"Simulation: {plot_ts[i]}\")\n",
    "    \n",
    "        grid(linestyle = '--')\n",
    "    tight_layout()\n",
    "    show()"
   ]
  }
 ],
 "metadata": {
  "kernelspec": {
   "display_name": "Python 3",
   "language": "python",
   "name": "python3"
  },
  "language_info": {
   "codemirror_mode": {
    "name": "ipython",
    "version": 3
   },
   "file_extension": ".py",
   "mimetype": "text/x-python",
   "name": "python",
   "nbconvert_exporter": "python",
   "pygments_lexer": "ipython3",
   "version": "3.7.10"
  }
 },
 "nbformat": 4,
 "nbformat_minor": 5
}
