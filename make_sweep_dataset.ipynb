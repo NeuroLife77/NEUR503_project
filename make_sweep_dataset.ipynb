{
 "cells": [
  {
   "cell_type": "code",
   "execution_count": 1,
   "id": "9a1b5625",
   "metadata": {},
   "outputs": [
    {
     "name": "stdout",
     "output_type": "stream",
     "text": [
      "Populating the interactive namespace from numpy and matplotlib\n"
     ]
    }
   ],
   "source": [
    "%pylab nbagg\n",
    "import torch\n",
    "import numpy as np\n",
    "from lib.Simulator.Wrapper import *\n",
    "from lib.utils import *\n",
    "from numpy import array as ar\n",
    "from copy import deepcopy as dcp\n",
    "import numpy as np\n",
    "from matplotlib import rc\n",
    "import matplotlib as mpl\n",
    "import multiprocessing\n",
    "from multiprocessing import Pool\n",
    "from lib.Simulator.connectivity_paths import connectivity_source_file\n",
    "rc('text',usetex = True)\n",
    "mpl.rcParams['font.size'] = 10\n",
    "torch.set_printoptions(sci_mode=True)\n",
    "try:\n",
    "    multiprocessing.set_start_method('spawn')\n",
    "except:\n",
    "    pass\n",
    "def paral_sim(s, ind,processes = 1):\n",
    "    if processes > 11:\n",
    "        processes = 11\n",
    "    if __name__ == '__main__':\n",
    "        with Pool(processes=processes) as pool:\n",
    "            results = pool.map_async(s.run_simulation_long,ind).get(timeout=600000)                \n",
    "        pool.close()\n",
    "        pool.join()\n",
    "    return results\n",
    "par_val_def = torch.cat([theta_initial.view(1,-1) for i in range(68)], dim = 0)\n",
    "par_val_def[45,5] = 8\n",
    "par_val_def[45,-1] = 0\n",
    "par_val_def[45,-2] = 0\n",
    "path = f'./Data/heterogeneous_2d_sweep_noise'"
   ]
  },
  {
   "cell_type": "code",
   "execution_count": 2,
   "id": "2d4d3bf8",
   "metadata": {},
   "outputs": [],
   "source": [
    "batch_par_vals = [[[1e-4*i,10*j,f'Coupled{(i-1)*(10)+(j-1)} (a:{str(1e-4*i)[:6]}, K: {10*j})'] for i in range(k,k+2) for j in range(1,11)] for k in range(1,11,2)]"
   ]
  },
  {
   "cell_type": "code",
   "execution_count": 4,
   "id": "7070a23b",
   "metadata": {},
   "outputs": [],
   "source": [
    "for batch in range(len(batch_par_vals)):\n",
    "    results,wrapper,timeseries,psd = None,None,None,None\n",
    "    par_vals = batch_par_vals[batch]\n",
    "    wrapper = Wrapper()\n",
    "    if batch == 0:\n",
    "        wrapper.add_sim(par_val_def,file = 'empty', a_val = 0, speed = 50,length = 182e3)\n",
    "    for i in range(len(par_vals)):\n",
    "        wrapper.add_sim(par_val_def, a_val = par_vals[i][0], speed = par_vals[i][1],length = 182e3) \n",
    "    results = paral_sim(wrapper, [i for i in range(len(wrapper.simulations))],processes = len(wrapper.simulations))\n",
    "    timeseries = np.concatenate([results[i][0].reshape((1,68,-1)) for i in range(len(results))],axis=0)\n",
    "    psd = torch.cat([results[i][1].view((1,68,-1)) for i in range(len(results))],dim=0)\n",
    "    np.save(f'{path}{batch}.npy',ar([timeseries,psd,par_val_def, par_vals],dtype = object))"
   ]
  },
  {
   "cell_type": "code",
   "execution_count": 5,
   "id": "c6f753cd",
   "metadata": {},
   "outputs": [],
   "source": [
    "results,wrapper,timeseries,psd = None,None,None,None\n",
    "#Restart the kernel here before running the rest if the memory is overloaded"
   ]
  },
  {
   "cell_type": "code",
   "execution_count": 6,
   "id": "1ffaffe5",
   "metadata": {},
   "outputs": [],
   "source": [
    "data = np.load(f'{path}0.npy', allow_pickle = True)\n",
    "timeseries, psd, par_val_def, par_vals = data[0], data[1], data[2], ar(data[3], dtype = object)\n",
    "data = None\n",
    "for i in range(1,5):\n",
    "    data = np.load(f'{path}{i}.npy', allow_pickle = True)\n",
    "    timeseries = np.concatenate((timeseries,data[0]), axis = 0)\n",
    "    psd = torch.cat((psd,data[1]), dim = 0)\n",
    "    par_val_def = torch.cat((par_val_def,data[2]), axis = 0)\n",
    "    par_vals = np.concatenate((par_vals,ar(data[3], dtype = object)), axis = 0)\n",
    "    data = None"
   ]
  },
  {
   "cell_type": "code",
   "execution_count": 7,
   "id": "16e4ec71",
   "metadata": {},
   "outputs": [],
   "source": [
    "np.save(f'{path}_ts.npy',timeseries)\n",
    "np.save(f'{path}_global_par.npy',par_vals)\n",
    "torch.save(psd,f'{path}_psd.pt')\n",
    "torch.save(par_val_def,f'{path}_local_par.pt')"
   ]
  }
 ],
 "metadata": {
  "kernelspec": {
   "display_name": "Python 3",
   "language": "python",
   "name": "python3"
  },
  "language_info": {
   "codemirror_mode": {
    "name": "ipython",
    "version": 3
   },
   "file_extension": ".py",
   "mimetype": "text/x-python",
   "name": "python",
   "nbconvert_exporter": "python",
   "pygments_lexer": "ipython3",
   "version": "3.7.10"
  }
 },
 "nbformat": 4,
 "nbformat_minor": 5
}
